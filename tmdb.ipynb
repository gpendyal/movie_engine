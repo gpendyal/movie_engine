{
 "cells": [
  {
   "cell_type": "code",
   "execution_count": 165,
   "metadata": {},
   "outputs": [],
   "source": [
    "import pandas as pd\n",
    "from collections import Counter"
   ]
  },
  {
   "cell_type": "markdown",
   "metadata": {},
   "source": [
    "<h1>Pre Processing</h1>"
   ]
  },
  {
   "cell_type": "code",
   "execution_count": 166,
   "metadata": {},
   "outputs": [
    {
     "name": "stdout",
     "output_type": "stream",
     "text": [
      "(976445, 23)\n"
     ]
    }
   ],
   "source": [
    "df = pd.read_csv('TMDB_movie_dataset_v11.csv')\n",
    "print(df.shape)"
   ]
  },
  {
   "cell_type": "code",
   "execution_count": 167,
   "metadata": {},
   "outputs": [],
   "source": [
    "# status - retain only Released in then remove column.\n",
    "\n",
    "# release_date - convert to release year\n",
    "\n",
    "# revenue - convert to millions scale\n",
    "\n",
    "# adult - convert True False to 0 1\n",
    "\n",
    "# backdrop_path - remove column\n",
    "\n",
    "# budget - convert to millions scale\n",
    "\n",
    "# homepage - remove\n",
    "\n",
    "# original_language - map with full word\n",
    "\n",
    "# popularity - remove\n",
    "\n",
    "# poster_path - remove\n",
    "\n",
    "# tagline - remove\n",
    "\n",
    "# genres - create columns out of exisiting values and map with 0,1\n",
    "\n",
    "# production_countries - remove"
   ]
  },
  {
   "cell_type": "code",
   "execution_count": 168,
   "metadata": {},
   "outputs": [
    {
     "name": "stdout",
     "output_type": "stream",
     "text": [
      "(976445, 15)\n"
     ]
    }
   ],
   "source": [
    "df = df.drop(['id', 'imdb_id', 'backdrop_path', 'homepage', 'popularity', 'poster_path', 'tagline', 'production_countries'], axis=1)\n",
    "\n",
    "print(df.shape)"
   ]
  },
  {
   "cell_type": "code",
   "execution_count": 169,
   "metadata": {},
   "outputs": [],
   "source": [
    "df = df[df['status'] == 'Released']\n",
    "df = df.drop('status', axis=1)\n",
    "\n",
    "df['year'] = pd.Series([x[0] for x in df['release_date'].astype(str).str.split('-')])\n",
    "df = df.drop('release_date', axis=1)\n",
    "\n",
    "df['revenue'] = round(df['revenue'].astype(int)/1000000, 2)\n",
    "\n",
    "df['budget'] = round(df['budget'].astype(int)/1000000, 2)\n",
    "\n",
    "df = df[df['overview'] == df['overview']]\n",
    "\n",
    "\n",
    "df = df[df['adult'].astype(str) != 'True']\n",
    "df = df.drop('adult', axis=1)"
   ]
  },
  {
   "cell_type": "code",
   "execution_count": null,
   "metadata": {},
   "outputs": [],
   "source": [
    "genres = []\n",
    "\n",
    "for i in df['genres']:\n",
    "    if i == i:\n",
    "        for j in i.split(', '):\n",
    "            if j not in genres:\n",
    "                genres.append(j)\n",
    "\n",
    "for i in genres:\n",
    "    df['genre_' + i.replace(' ', '_').lower()] = pd.Series([1 if i in x else 0 for x in df['genres'].astype(str)])\n",
    "\n",
    "df = df.drop('genres', axis=1)\n",
    "\n",
    "df[:5].to_csv('export.csv') "
   ]
  }
 ],
 "metadata": {
  "kernelspec": {
   "display_name": "Python 3",
   "language": "python",
   "name": "python3"
  },
  "language_info": {
   "codemirror_mode": {
    "name": "ipython",
    "version": 3
   },
   "file_extension": ".py",
   "mimetype": "text/x-python",
   "name": "python",
   "nbconvert_exporter": "python",
   "pygments_lexer": "ipython3",
   "version": "3.9.6"
  }
 },
 "nbformat": 4,
 "nbformat_minor": 2
}
